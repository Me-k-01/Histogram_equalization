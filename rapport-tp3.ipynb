{
 "cells": [
  {
   "cell_type": "code",
   "execution_count": 1,
   "metadata": {},
   "outputs": [],
   "source": [
    "BENCHMARK_TOOL = 'NVPROF' # or 'NCU'\n",
    "\n",
    "import subprocess\n",
    "import numpy as np\n",
    "import pandas as pd\n",
    "import io\n",
    "from mpl_toolkits.mplot3d import Axes3D\n",
    "from matplotlib import pyplot as plt\n",
    "from matplotlib.colors import LinearSegmentedColormap\n",
    "from matplotlib.ticker import LinearLocator, FormatStrFormatter\n",
    "from matplotlib import cm "
   ]
  },
  {
   "cell_type": "code",
   "execution_count": 2,
   "metadata": {},
   "outputs": [],
   "source": [
    "KERNELS = [\n",
    "    \"rgb2hsv\", \n",
    "    \"rgb2hsv_MinimuDivergence\",\n",
    "    \"rgb2hsv_CoordinatedOutputs\",\n",
    "    \"histogram\",\n",
    "    \"histogram_WithSharedMemory\",\n",
    "    \"histogram_WithSharedMemoryAndHardcodedSize\",\n",
    "    \"histogram_WithMinilmumCalculationDepencies\",\n",
    "    \"repart\",\n",
    "    \"repart_WithSharedMemory\",\n",
    "    \"repart_WithSharedMemoryAndHardcodedSize\",\n",
    "    \"equalization\",\n",
    "    \"equalization_ConstantCoefficient\",\n",
    "    \"hsv2rgb\",\n",
    "    \"hsv2rgb_MinimuDivergence\"\n",
    "]"
   ]
  },
  {
   "cell_type": "code",
   "execution_count": 3,
   "metadata": {},
   "outputs": [],
   "source": [
    "def read_nvprof(output: str) -> pd.DataFrame:\n",
    "    csv = output.split('\\\\n')\n",
    "    columns = csv[3].split('\\\",\\\"')\n",
    "    data = csv[4:]\n",
    "\n",
    "    return pd.read_csv(io.StringIO('\\n'.join(data)), names=columns)\n",
    "\n",
    "    \n",
    "def read_ncu(output: str) -> pd.DataFrame:\n",
    "    csv = output.split('\\\\n')\n",
    "    columns = csv[2].split('\\\",\\\"')\n",
    "    data = csv[4:]\n",
    "\n",
    "    return pd.read_csv(io.StringIO('\\n'.join(data)), names=columns)\n",
    "\n",
    "def benchmark_kernel(exe_path: str, *args) -> str :\n",
    "    if BENCHMARK_TOOL == 'NVPROF':\n",
    "        return str(subprocess.check_output(\n",
    "            ['nvprof', '--print-gpu-trace', '--csv', exe_path, *args], \n",
    "            stderr=subprocess.STDOUT\n",
    "        ))\n",
    "    elif BENCHMARK_TOOL == 'NCU':\n",
    "        return str(subprocess.check_output(\n",
    "            ['ncu','--csv', exe_path, *args], \n",
    "            stderr=subprocess.STDOUT, shell=True\n",
    "        ))\n",
    "\n",
    "def read_benchmark(output: str) -> pd.DataFrame:\n",
    "    if BENCHMARK_TOOL == 'NVPROF':\n",
    "        return read_nvprof(output)\n",
    "    elif BENCHMARK_TOOL == 'NCU':\n",
    "        return read_ncu(output)\n",
    "\n",
    "def get_kernel_duration(df: pd.DataFrame, kernelNum=0) -> float:\n",
    "    if BENCHMARK_TOOL == 'NVPROF':\n",
    "        # conversion en ms \n",
    "        if df.loc[0, 'Duration'] == \"ms\":\n",
    "            return float(df.loc[kernelNum + 1, 'Duration']) \n",
    "        if df.loc[0, 'Duration'] == \"s\":\n",
    "            return float(df.loc[kernelNum + 1, 'Duration']) * 1e3\n",
    "        # probablement en micro seconde\n",
    "        return float(df.loc[kernelNum + 1, 'Duration']) * 1e-3\n",
    "    elif BENCHMARK_TOOL == 'NCU':\n",
    "        return float(df[df['Metric Name'] == 'Duration']['Metric Value'].to_numpy().item().replace(',','')) * 1e-6"
   ]
  },
  {
   "cell_type": "code",
   "execution_count": 4,
   "metadata": {},
   "outputs": [],
   "source": [
    "# Renvoie les durée moyennes en fonction de variation de tailles de l'axe X des blocs pour un certain kernel\n",
    "def evaluateBlocSize(kernelType, nTry = 10):  \n",
    "    durations = []\n",
    "    sizes = []\n",
    "    avg = 0\n",
    "    xBlockSize, yBlockSize = 1, 1\n",
    "    \n",
    "    while xBlockSize <= 1024:\n",
    "        for _ in range(nTry) :         \n",
    "            avg += get_kernel_duration(read_benchmark(\n",
    "                benchmark_kernel(\"./hist\", \n",
    "                    \"-f\", \"./img/chateau.png\", \n",
    "                    \"-b\", str(kernelType), \n",
    "                    \"-d\", str(xBlockSize), str(yBlockSize)\n",
    "                )\n",
    "            ), kernelType)\n",
    "\n",
    "        avg /= nTry\n",
    "        durations.append(avg)    \n",
    "        sizes.append(xBlockSize)\n",
    "        xBlockSize *= 2\n",
    "    return durations, sizes"
   ]
  },
  {
   "cell_type": "code",
   "execution_count": 5,
   "metadata": {},
   "outputs": [
    {
     "name": "stdout",
     "output_type": "stream",
     "text": [
      "Évaluation des kernels suivant la variation de la taille des blocs sur l'axe X\n"
     ]
    }
   ],
   "source": [
    "def showHistogramDuration(durations, sizes, title, xLabel, yLabel):\n",
    "    plt.title(title)  \n",
    "    plt.xlabel(xLabel) \n",
    "    plt.ylabel(yLabel) \n",
    "    plt.bar(np.array(sizes).astype(str), np.array(durations), width=.8) \n",
    "    plt.show()\n",
    "\n",
    "def showHistogramOfKernels(kernels, nTry = 10):  \n",
    "    i = 0\n",
    "    for k in kernels: \n",
    "        durations, sizes = evaluateBlocSize(i, nTry)\n",
    "        showHistogramDuration(durations, sizes, k, \"taille de bloc\", \"ms\") \n",
    "        i+=1\n",
    " \n",
    "print(\"Évaluation des kernels suivant la variation de la taille des blocs sur l'axe X\") \n",
    "#showHistogramOfKernels(KERNELS, 5)"
   ]
  },
  {
   "cell_type": "code",
   "execution_count": 6,
   "metadata": {},
   "outputs": [],
   "source": [
    "def evaluate2DBlocSize(kernelType, nTry = 10):  \n",
    "    durations = []\n",
    "    sizes = [] \n",
    "    xBlockSize = 1\n",
    "\n",
    "    while xBlockSize <= 1024:\n",
    "        yBlockSize = 1\n",
    "        durations.append([])\n",
    "        while yBlockSize <= 1024:\n",
    "            if (xBlockSize * yBlockSize) > 1024:\n",
    "                durations[-1].append(np.nan)    \n",
    "                yBlockSize *= 2\n",
    "                continue\n",
    "            \n",
    "            avg = 0\n",
    "            for _ in range(nTry) :         \n",
    "                avg += get_kernel_duration(read_benchmark(\n",
    "                    benchmark_kernel(\"./hist\", \n",
    "                        \"-f\", \"./img/chateau.png\", \n",
    "                        \"-b\", str(kernelType), \n",
    "                        \"-d\", str(xBlockSize), str(yBlockSize)\n",
    "                    )\n",
    "                ), kernelType)\n",
    "\n",
    "            avg /= nTry\n",
    "            durations[-1].append(avg)   \n",
    "            yBlockSize *= 2\n",
    "        sizes.append(xBlockSize)\n",
    "         \n",
    "        xBlockSize *= 2\n",
    "    return durations, sizes\n",
    " "
   ]
  },
  {
   "cell_type": "code",
   "execution_count": 17,
   "metadata": {},
   "outputs": [
    {
     "name": "stdout",
     "output_type": "stream",
     "text": [
      "Variation de la taille des blocs rgb to hsv\n",
      "[[0.161152, 0.158944, 0.158816, 0.158496, 0.15904, 0.1584, 0.157121, 0.159072, 0.157504, 0.156896, 0.193408], [0.156993, 0.159903, 0.164896, 0.16032, 0.159103, 0.163104, 0.15744, 0.181888, 0.161056, 0.15776, nan], [0.157216, 0.158176, 0.158496, 0.157184, 0.159296, 0.160288, 0.158401, 0.166496, 0.159521, nan, nan], [0.160448, 0.157505, 0.158048, 0.159872, 0.160992, 0.158305, 0.163872, 0.157921, nan, nan, nan], [0.158816, 0.155841, 0.159712, 0.159264, 0.15776, 0.176737, 0.176192, nan, nan, nan, nan], [0.15584, 0.157536, 0.160576, 0.163712, 0.158241, 0.158625, nan, nan, nan, nan, nan], [0.157697, 0.157696, 0.15712, 0.157024, 0.15808, nan, nan, nan, nan, nan, nan], [0.158945, 0.15792, 0.158976, 0.180288, nan, nan, nan, nan, nan, nan, nan], [0.156384, 0.159552, 0.15872, nan, nan, nan, nan, nan, nan, nan, nan], [0.156704, 0.158977, nan, nan, nan, nan, nan, nan, nan, nan, nan], [0.158208, nan, nan, nan, nan, nan, nan, nan, nan, nan, nan]]\n",
      "[1, 2, 4, 8, 16, 32, 64, 128, 256, 512, 1024]\n"
     ]
    }
   ],
   "source": [
    "print(\"Variation de la taille des blocs rgb to hsv\")\n",
    "durations, sizes = evaluate2DBlocSize(0, 1)   \n",
    "print(durations)\n",
    "print(sizes)"
   ]
  },
  {
   "cell_type": "code",
   "execution_count": 16,
   "metadata": {},
   "outputs": [
    {
     "name": "stderr",
     "output_type": "stream",
     "text": [
      "<ipython-input-16-9872abeaedbd>:18: UserWarning: Z contains NaN values. This may result in rendering artifacts.\n",
      "  surf = ax.plot_surface(X, Y, np.array(durations), rstride=1, cstride=1, cmap=cm.coolwarm,\n",
      "No handles with labels found to put in legend.\n"
     ]
    },
    {
     "data": {
      "image/png": "[encoded data removed]",
      "text/plain": [
       "<Figure size 432x288 with 2 Axes>"
      ]
     },
     "metadata": {
      "needs_background": "light"
     },
     "output_type": "display_data"
    }
   ],
   "source": [
    " \n",
    "def showHistogramDuration3D_1(durations, sizesX, sizesY, xLabel, yLabel): \n",
    "    # get colormap\n",
    "    ncolors = 256\n",
    "    color_array = plt.get_cmap('spring')(range(ncolors))\n",
    "\n",
    "    # change alpha values\n",
    "    color_array[:,-1] = [0.5] * 256\n",
    "\n",
    "    # create a colormap object\n",
    "    map_object = LinearSegmentedColormap.from_list(name='my_color',colors=color_array)\n",
    "\n",
    "    # register this new colormap with matplotlib\n",
    "    plt.register_cmap(cmap=map_object)\n",
    "\n",
    "    fig = plt.figure()\n",
    "    ax = fig.add_subplot(projection='3d') \n",
    "    X, Y = np.meshgrid(sizesX, sizesY)   \n",
    "    surf = ax.plot_surface(X, Y, np.array(durations), rstride=1, cstride=1, cmap=cm.coolwarm,\n",
    "        linewidth=0, antialiased=False, vmin=0, vmax=10)\n",
    "\n",
    "    \n",
    "    # Customize the z axis.  \n",
    "    ax.zaxis.set_major_locator(LinearLocator(10))\n",
    "    ax.zaxis.set_major_formatter(FormatStrFormatter('%.03f'))\n",
    "    \n",
    "    ax.legend() \n",
    "    ax.set_xlabel(xLabel)\n",
    "    ax.set_ylabel(yLabel) \n",
    "    ax.set_zlabel(\"durée (en ms)\")\n",
    " \n",
    "    # Add a color bar which maps values to colors.evaluate2DBlocSize(4, 1) \n",
    "    fig.colorbar(surf, shrink=0.5, aspect=5)\n",
    "    plt.show()\n",
    "    \n",
    "def showHistogramDuration3D_2(durations, sizesX, sizesY, xLabel, yLabel): \n",
    "    # get colormap\n",
    "    ncolors = 256\n",
    "    color_array = plt.get_cmap('spring')(range(ncolors))\n",
    "\n",
    "    # change alpha values\n",
    "    color_array[:,-1] = [0.5] * 256\n",
    "\n",
    "    # create a colormap object\n",
    "    map_object = LinearSegmentedColormap.from_list(name='my_color',colors=color_array)\n",
    "\n",
    "    # register this new colormap with matplotlib\n",
    "    plt.register_cmap(cmap=map_object)\n",
    "\n",
    "    fig = plt.figure()\n",
    "    ax = fig.add_subplot(projection='3d') \n",
    "    X, Y = np.meshgrid(sizesX, sizesY)  \n",
    "\n",
    "    dx = dy = 0.5 * np.ones_like(durations)\n",
    "    dz = hist.ravel() \n",
    "    ax.bar3d(X.ravel(), Y.ravel(), durations, xLabel, dy, dz, zsort='average')\n",
    "     \n",
    "    \n",
    "    # Customize the z axis.  \n",
    "    ax.zaxis.set_major_locator(LinearLocator(10))\n",
    "    ax.zaxis.set_major_formatter(FormatStrFormatter('%.03f'))\n",
    "    \n",
    "    ax.legend() \n",
    "    ax.set_xlabel(xLabel)\n",
    "    ax.set_ylabel(yLabel) \n",
    "    ax.set_zlabel(\"durée (en ms)\")\n",
    " \n",
    "    # Add a color bar which maps values to colors.evaluate2DBlocSize(4, 1)  \n",
    "    plt.show()\n",
    "test = np.array(durations) \n",
    "showHistogramDuration3D_1(test, sizes, sizes, \"taille x\", \"taille y\")"
   ]
  },
  {
   "cell_type": "code",
   "execution_count": 14,
   "metadata": {},
   "outputs": [
    {
     "data": {
      "text/plain": [
       "(0.155969, 1, 1024)"
      ]
     },
     "execution_count": 14,
     "metadata": {},
     "output_type": "execute_result"
    }
   ],
   "source": [
    "def getBestParameters(durations, sizesX, sizesY):\n",
    "    m = durations[0][0]\n",
    "    x = 1\n",
    "    y = 1\n",
    "\n",
    "    for i in range(len(durations)):\n",
    "        for j in range(len(durations[i])):  \n",
    "            if (durations[i][j] < m and durations[i][j] != np.nan):\n",
    "                m = durations[i][j]\n",
    "                x = sizesX[i] \n",
    "                y = sizesY[j] \n",
    "    \n",
    "    return m, x, y \n",
    "\n",
    "def testBlocKernels(kernels, nTry = 1):\n",
    "    for i in range(len(kernels)):\n",
    "        print(\"Variation de la taille des blocs pour le kernel : \", kernels[i])\n",
    "\n",
    "        durations, sizes = evaluate2DBlocSize(0, nTry)   \n",
    "        showHistogramDuration3D_1(durations, sizes, sizes, \"taille x\", \"taille y\") \n",
    "\n",
    "        d, x, y = getBestParameters(durations, sizes, sizes)\n",
    "\n",
    "        print(\"Meilleurs kernel: \")\n",
    "        print(\"Dimension de block (x, y) = (\", x, y, \")\")\n",
    "        print(\"Durée:\", d)\n",
    "        print()\n",
    "\n",
    "getBestParameters(test, sizes, sizes)    \n",
    "#testBlocKernels(KERNELS, 2)"
   ]
  },
  {
   "cell_type": "code",
   "execution_count": null,
   "metadata": {},
   "outputs": [],
   "source": [
    "\n",
    "\n",
    "print(\"Variation de la taille des blocs histogram\")\n",
    "durations, sizes = evaluate2DBlocSize(3, 10)  \n",
    "showHistogramDuration3D_1(durations, sizes, sizes, \"taille x\", \"taille y\")"
   ]
  },
  {
   "cell_type": "code",
   "execution_count": null,
   "metadata": {},
   "outputs": [],
   "source": [
    "\"\"\"def showHistogramDurationtest(durations, sizes, title, xLabel, yLabel):\n",
    "    plt.title(title)  \n",
    "    plt.xlabel(xLabel) \n",
    "    plt.ylabel(yLabel) \n",
    "    for tab in durations :\n",
    "        plt.plot(tab)\n",
    "    plt.show()\n",
    "\n",
    "showHistogramDurationtest(durations, sizes, \"test\", \"nbthread\", )\"\"\""
   ]
  }
 ],
 "metadata": {
  "kernelspec": {
   "display_name": "Python 3.8.10 64-bit",
   "language": "python",
   "name": "python3"
  },
  "language_info": {
   "codemirror_mode": {
    "name": "ipython",
    "version": 3
   },
   "file_extension": ".py",
   "mimetype": "text/x-python",
   "name": "python",
   "nbconvert_exporter": "python",
   "pygments_lexer": "ipython3",
   "version": "3.8.10"
  },
  "orig_nbformat": 4,
  "vscode": {
   "interpreter": {
    "hash": "916dbcbb3f70747c44a77c7bcd40155683ae19c65e1c03b4aa3499c5328201f1"
   }
  }
 },
 "nbformat": 4,
 "nbformat_minor": 2
}
