{
 "cells": [
  {
   "cell_type": "code",
   "execution_count": 80,
   "metadata": {},
   "outputs": [],
   "source": [
    "BENCHMARK_TOOL = 'NVPROF' # or 'NVPROF'\n",
    "\n",
    "import subprocess\n",
    "import numpy as np\n",
    "import pandas as pd\n",
    "import io\n",
    "from typing import Tuple"
   ]
  },
  {
   "cell_type": "code",
   "execution_count": 81,
   "metadata": {},
   "outputs": [],
   "source": [
    "def read_nvprof(output: str) -> pd.DataFrame:\n",
    "    csv = output.split('\\\\n')\n",
    "    columns = csv[3].split('\\\",\\\"')\n",
    "    data = csv[4:]\n",
    "\n",
    "    return pd.read_csv(io.StringIO('\\n'.join(data)), names=columns)\n",
    "\n",
    "    \n",
    "def read_ncu(output: str) -> pd.DataFrame:\n",
    "    csv = output.split('\\\\n')\n",
    "    columns = csv[2].split('\\\",\\\"')\n",
    "    data = csv[4:]\n",
    "\n",
    "    return pd.read_csv(io.StringIO('\\n'.join(data)), names=columns)\n",
    "\n",
    "def benchmark_kernel(exe_path: str, *args) -> str :\n",
    "    if BENCHMARK_TOOL == 'NVPROF':\n",
    "        return str(subprocess.check_output(\n",
    "            ['nvprof', '--print-gpu-trace', '--csv', exe_path, *args], \n",
    "            stderr=subprocess.STDOUT\n",
    "        ))\n",
    "    elif BENCHMARK_TOOL == 'NCU':\n",
    "        return str(subprocess.check_output(\n",
    "            ['ncu','--csv', exe_path, *args], \n",
    "            stderr=subprocess.STDOUT, shell=True\n",
    "        ))\n",
    "\n",
    "def read_benchmark(output: str) -> pd.DataFrame:\n",
    "    if BENCHMARK_TOOL == 'NVPROF':\n",
    "        return read_nvprof(output)\n",
    "    elif BENCHMARK_TOOL == 'NCU':\n",
    "        return read_ncu(output)\n",
    "\n",
    "def get_kernel_duration(df: pd.DataFrame) -> float:\n",
    "    if BENCHMARK_TOOL == 'NVPROF':\n",
    "        return float(df.loc[2, 'Duration']) * 1e-3\n",
    "    elif BENCHMARK_TOOL == 'NCU':\n",
    "        return float(df[df['Metric Name'] == 'Duration']['Metric Value'].to_numpy().item().replace(',','')) * 1e-6"
   ]
  },
  {
   "cell_type": "code",
   "execution_count": 90,
   "metadata": {},
   "outputs": [
    {
     "data": {
      "text/plain": [
       "0.011584"
      ]
     },
     "execution_count": 90,
     "metadata": {},
     "output_type": "execute_result"
    }
   ],
   "source": [
    "get_kernel_duration(read_benchmark(benchmark_kernel(\"./gen\", \"-n\", str(10))))"
   ]
  },
  {
   "cell_type": "code",
   "execution_count": 94,
   "metadata": {},
   "outputs": [
    {
     "name": "stdout",
     "output_type": "stream",
     "text": [
      "[0.023264, 0.016768, 0.013216, 0.011808, 0.011136, 0.011359000000000001, 0.011104, 0.011328, 0.011231999999999999, 0.010432, 0.01056]\n"
     ]
    }
   ],
   "source": [
    "arr = []\n",
    "i = 1\n",
    "while i <= 1024:\n",
    "    arr.append(get_kernel_duration(read_benchmark(benchmark_kernel(\"./bench\", \"-f\", \"./img/chateau.png\", \"-n\", str(i)))))\n",
    "    i *= 2\n",
    "print(arr)\n"
   ]
  },
  {
   "cell_type": "markdown",
   "metadata": {},
   "source": [
    "Meilleurs valeur de n:"
   ]
  },
  {
   "cell_type": "code",
   "execution_count": 101,
   "metadata": {},
   "outputs": [
    {
     "data": {
      "text/plain": [
       "512"
      ]
     },
     "execution_count": 101,
     "metadata": {},
     "output_type": "execute_result"
    }
   ],
   "source": [
    "2**np.argmin(arr)"
   ]
  }
 ],
 "metadata": {
  "kernelspec": {
   "display_name": "Python 3.8.10 64-bit",
   "language": "python",
   "name": "python3"
  },
  "language_info": {
   "codemirror_mode": {
    "name": "ipython",
    "version": 3
   },
   "file_extension": ".py",
   "mimetype": "text/x-python",
   "name": "python",
   "nbconvert_exporter": "python",
   "pygments_lexer": "ipython3",
   "version": "3.8.10"
  },
  "orig_nbformat": 4,
  "vscode": {
   "interpreter": {
    "hash": "916dbcbb3f70747c44a77c7bcd40155683ae19c65e1c03b4aa3499c5328201f1"
   }
  }
 },
 "nbformat": 4,
 "nbformat_minor": 2
}
