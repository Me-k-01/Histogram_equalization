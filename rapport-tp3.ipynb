{
 "cells": [
  {
   "cell_type": "code",
   "execution_count": 122,
   "metadata": {},
   "outputs": [],
   "source": [
    "BENCHMARK_TOOL = 'NVPROF' # or 'NCU'\n",
    "\n",
    "import subprocess\n",
    "import numpy as np\n",
    "import pandas as pd\n",
    "import io\n",
    "from matplotlib import pyplot as plt \n",
    "from typing import Tuple"
   ]
  },
  {
   "cell_type": "code",
   "execution_count": 123,
   "metadata": {},
   "outputs": [],
   "source": [
    "def read_nvprof(output: str) -> pd.DataFrame:\n",
    "    csv = output.split('\\\\n')\n",
    "    columns = csv[3].split('\\\",\\\"')\n",
    "    data = csv[4:]\n",
    "\n",
    "    return pd.read_csv(io.StringIO('\\n'.join(data)), names=columns)\n",
    "\n",
    "    \n",
    "def read_ncu(output: str) -> pd.DataFrame:\n",
    "    csv = output.split('\\\\n')\n",
    "    columns = csv[2].split('\\\",\\\"')\n",
    "    data = csv[4:]\n",
    "\n",
    "    return pd.read_csv(io.StringIO('\\n'.join(data)), names=columns)\n",
    "\n",
    "def benchmark_kernel(exe_path: str, *args) -> str :\n",
    "    if BENCHMARK_TOOL == 'NVPROF':\n",
    "        return str(subprocess.check_output(\n",
    "            ['nvprof', '--print-gpu-trace', '--csv', exe_path, *args], \n",
    "            stderr=subprocess.STDOUT\n",
    "        ))\n",
    "    elif BENCHMARK_TOOL == 'NCU':\n",
    "        return str(subprocess.check_output(\n",
    "            ['ncu','--csv', exe_path, *args], \n",
    "            stderr=subprocess.STDOUT, shell=True\n",
    "        ))\n",
    "\n",
    "def read_benchmark(output: str) -> pd.DataFrame:\n",
    "    if BENCHMARK_TOOL == 'NVPROF':\n",
    "        return read_nvprof(output)\n",
    "    elif BENCHMARK_TOOL == 'NCU':\n",
    "        return read_ncu(output)\n",
    "\n",
    "def get_kernel_duration(df: pd.DataFrame, kernelNum=0) -> float:\n",
    "    if BENCHMARK_TOOL == 'NVPROF':\n",
    "        # conversion en ms \n",
    "        if df.loc[0, 'Duration'] == \"ms\":\n",
    "            return float(df.loc[kernelNum + 1, 'Duration']) \n",
    "        if df.loc[0, 'Duration'] == \"s\":\n",
    "            return float(df.loc[kernelNum + 1, 'Duration']) * 1e3\n",
    "        # probablement en micro seconde\n",
    "        return float(df.loc[kernelNum + 1, 'Duration']) * 1e-3\n",
    "    elif BENCHMARK_TOOL == 'NCU':\n",
    "        return float(df[df['Metric Name'] == 'Duration']['Metric Value'].to_numpy().item().replace(',','')) * 1e-6"
   ]
  },
  {
   "cell_type": "code",
   "execution_count": 124,
   "metadata": {},
   "outputs": [
    {
     "name": "stdout",
     "output_type": "stream",
     "text": [
      "Durée de chaque kernel:\n",
      "[0.160063, 1.823894, 6.109025, 0.014432, 5.02653]\n"
     ]
    }
   ],
   "source": [
    "\"\"\"kernelDurations = []\n",
    "numberOfKernel = 5\n",
    "\n",
    "for i in range(0, numberOfKernel):\n",
    "    kernelDurations.append(\n",
    "        get_kernel_duration(\n",
    "            read_benchmark(benchmark_kernel(\"./hist\", \"-f\", \"./img/chateau.png\", \"-b\", str(i))), i\n",
    "        ) # * 1e3\n",
    "    )\n",
    "print(\"Durée de chaque kernel:\")\n",
    "print(kernelDurations) # En milliseconde\n",
    "\n",
    "print(\"benchmark du kernel RGB To HSV:\")\n",
    "read_benchmark(benchmark_kernel(\"./hist\", \"-f\", \"./img/chateau.png\", \"-b\", str(0))) \n",
    "\"\"\""
   ]
  },
  {
   "cell_type": "code",
   "execution_count": 127,
   "metadata": {},
   "outputs": [],
   "source": [
    "# Renvoie les durée moyennes en fonction de variation de tailles de l'axe X des blocs pour un certain kernel\n",
    "def evaluateBlocSize(kernelType, nTry = 10):  \n",
    "    durations = []\n",
    "    sizes = []\n",
    "    avg = 0\n",
    "    xBlockSize, yBlockSize = 1, 1\n",
    "\n",
    "    while xBlockSize <= 1024:\n",
    "        for _ in range(nTry) :         \n",
    "            avg += get_kernel_duration(read_benchmark(\n",
    "                benchmark_kernel(\"./hist\", \n",
    "                    \"-f\", \"./img/chateau.png\", \n",
    "                    \"-b\", str(kernelType), \n",
    "                    \"-d\", str(xBlockSize), str(yBlockSize)\n",
    "                )\n",
    "            ), kernelType)\n",
    "\n",
    "        avg /= nTry\n",
    "        durations.append(avg)    \n",
    "        sizes.append(xBlockSize)\n",
    "        xBlockSize *= 2\n",
    "    return durations, sizes\n",
    "\n",
    " \n"
   ]
  },
  {
   "cell_type": "code",
   "execution_count": 138,
   "metadata": {},
   "outputs": [
    {
     "data": {
      "image/png": "[encoded data removed]",
      "text/plain": [
       "<Figure size 432x288 with 1 Axes>"
      ]
     },
     "metadata": {
      "needs_background": "light"
     },
     "output_type": "display_data"
    }
   ],
   "source": [
    "def showHistogramDuration(durations, sizes, title, xLabel, yLabel):\n",
    "    plt.title(title)  \n",
    "    plt.xlabel(xLabel) \n",
    "    plt.ylabel(yLabel) \n",
    "    plt.bar(np.array(sizes).astype(str), np.array(durations), width=.8)\n",
    "    plt.axhline(min(durations), ls='-', color='green')\n",
    "    plt.show()\n",
    "\n",
    "def showHistogramOfKernels(kernels, titles):  \n",
    "    for k, title in zip(kernels, titles):\n",
    "        durations, sizes = evaluateBlocSize(3)\n",
    "        showHistogramDuration(durations, sizes, title, \"taille de bloc\", \"ms\") \n",
    " \n",
    "print(\"Évaluation des kernels suivant la variation de la taille des blocs sur l'axe X\") \n",
    "showHistogramOfKernels([\n",
    "    0, 3\n",
    "], [\n",
    "    \"rgb2hsv\", \"histogram\"\n",
    "])"
   ]
  },
  {
   "cell_type": "code",
   "execution_count": 1,
   "metadata": {},
   "outputs": [
    {
     "ename": "NameError",
     "evalue": "name 'get_kernel_duration' is not defined",
     "output_type": "error",
     "traceback": [
      "\u001b[0;31m---------------------------------------------------------------------------\u001b[0m",
      "\u001b[0;31mNameError\u001b[0m                                 Traceback (most recent call last)",
      "Cell \u001b[0;32mIn [1], line 49\u001b[0m\n\u001b[1;32m     44\u001b[0m     \u001b[39m# Add a color bar which maps values to colors.\u001b[39;00m\n\u001b[1;32m     45\u001b[0m     \u001b[39m#fig.colorbar(surf, shrink=0.5, aspect=5)\u001b[39;00m\n\u001b[1;32m     47\u001b[0m     plt\u001b[39m.\u001b[39mshow()\n\u001b[0;32m---> 49\u001b[0m durations, sizes \u001b[39m=\u001b[39m evaluate2DBlocSize(\u001b[39m3\u001b[39;49m)\n\u001b[1;32m     50\u001b[0m showHistogramDuration3D(durations, sizes, sizes)\n",
      "Cell \u001b[0;32mIn [1], line 13\u001b[0m, in \u001b[0;36mevaluate2DBlocSize\u001b[0;34m(kernelType, nTry)\u001b[0m\n\u001b[1;32m     11\u001b[0m avg \u001b[39m=\u001b[39m \u001b[39m0\u001b[39m\n\u001b[1;32m     12\u001b[0m \u001b[39mfor\u001b[39;00m _ \u001b[39min\u001b[39;00m \u001b[39mrange\u001b[39m(nTry) :         \n\u001b[0;32m---> 13\u001b[0m     avg \u001b[39m+\u001b[39m\u001b[39m=\u001b[39m get_kernel_duration(read_benchmark(\n\u001b[1;32m     14\u001b[0m         benchmark_kernel(\u001b[39m\"\u001b[39m\u001b[39m./hist\u001b[39m\u001b[39m\"\u001b[39m, \n\u001b[1;32m     15\u001b[0m             \u001b[39m\"\u001b[39m\u001b[39m-f\u001b[39m\u001b[39m\"\u001b[39m, \u001b[39m\"\u001b[39m\u001b[39m./img/chateau.png\u001b[39m\u001b[39m\"\u001b[39m, \n\u001b[1;32m     16\u001b[0m             \u001b[39m\"\u001b[39m\u001b[39m-b\u001b[39m\u001b[39m\"\u001b[39m, \u001b[39mstr\u001b[39m(kernelType), \n\u001b[1;32m     17\u001b[0m             \u001b[39m\"\u001b[39m\u001b[39m-d\u001b[39m\u001b[39m\"\u001b[39m, \u001b[39mstr\u001b[39m(xBlockSize), \u001b[39mstr\u001b[39m(yBlockSize)\n\u001b[1;32m     18\u001b[0m         )\n\u001b[1;32m     19\u001b[0m     ), kernelType)\n\u001b[1;32m     21\u001b[0m avg \u001b[39m/\u001b[39m\u001b[39m=\u001b[39m nTry\n\u001b[1;32m     22\u001b[0m durations[\u001b[39m-\u001b[39m\u001b[39m1\u001b[39m]\u001b[39m.\u001b[39mappend(avg)    \n",
      "\u001b[0;31mNameError\u001b[0m: name 'get_kernel_duration' is not defined"
     ]
    }
   ],
   "source": [
    "def evaluate2DBlocSize(kernelType, nTry = 10):  \n",
    "    durations = []\n",
    "    sizes = []\n",
    "     \n",
    "    xBlockSize = 1\n",
    "\n",
    "    while xBlockSize <= 1024:\n",
    "        yBlockSize = 1\n",
    "        durations.append([])\n",
    "        while yBlockSize <= 1024:\n",
    "            avg = 0\n",
    "            for _ in range(nTry) :         \n",
    "                avg += get_kernel_duration(read_benchmark(\n",
    "                    benchmark_kernel(\"./hist\", \n",
    "                        \"-f\", \"./img/chateau.png\", \n",
    "                        \"-b\", str(kernelType), \n",
    "                        \"-d\", str(xBlockSize), str(yBlockSize)\n",
    "                    )\n",
    "                ), kernelType)\n",
    "\n",
    "            avg /= nTry\n",
    "            durations[-1].append(avg)    \n",
    "            sizes.append(xBlockSize)\n",
    "            yBlockSize *= 2\n",
    "        xBlockSize *= 2\n",
    "    return durations, sizes\n",
    "\n",
    "\n",
    "def showHistogramDuration3D(durations, sizesX, sizesY, title, dLabel, xLabel, yLabel): \n",
    "    fig = plt.figure()\n",
    "    ax = fig.add_subplot(projection='3d')\n",
    "    X, Y = np.meshgrid(sizesX, sizesY)   \n",
    "    surf = ax.plot_surface(X, Y, np.array(durations), cmap=cm.coolwarm,\n",
    "        linewidth=0, antialiased=False)\n",
    "\n",
    "    # Customize the z axis. \n",
    "    ax.zaxis.set_major_locator(LinearLocator(10))\n",
    "    ax.zaxis.set_major_formatter(FormatStrFormatter('%.02f'))\n",
    "    \n",
    "    ax.legend()\n",
    "    ax.set_xlabel(xLabel)\n",
    "    ax.set_ylabel(yLabel)\n",
    "    ax.set_zlabel(dLabel)\n",
    "    # Add a color bar which maps values to colors.\n",
    "    #fig.colorbar(surf, shrink=0.5, aspect=5)\n",
    "\n",
    "    plt.show()\n",
    "\n",
    "durations, sizes = evaluate2DBlocSize(3)\n",
    "showHistogramDuration3D(durations, sizes, sizes, \"Variation de la taille des blocs\", \"durée (en ms)\", \"taille x\", \"taille y\")"
   ]
  }
 ],
 "metadata": {
  "kernelspec": {
   "display_name": "Python 3",
   "language": "python",
   "name": "python3"
  },
  "language_info": {
   "codemirror_mode": {
    "name": "ipython",
    "version": 3
   },
   "file_extension": ".py",
   "mimetype": "text/x-python",
   "name": "python",
   "nbconvert_exporter": "python",
   "pygments_lexer": "ipython3",
   "version": "3.10.8"
  },
  "orig_nbformat": 4,
  "vscode": {
   "interpreter": {
    "hash": "e7370f93d1d0cde622a1f8e1c04877d8463912d04d973331ad4851f04de6915a"
   }
  }
 },
 "nbformat": 4,
 "nbformat_minor": 2
}
