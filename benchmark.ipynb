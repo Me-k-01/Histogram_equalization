{
 "cells": [
  {
   "cell_type": "code",
   "execution_count": null,
   "metadata": {},
   "outputs": [],
   "source": [
    "BENCHMARK_TOOL = 'NVPROF' # or 'NCU'\n",
    "\n",
    "import subprocess\n",
    "import numpy as np\n",
    "import pandas as pd\n",
    "import io\n",
    "from mpl_toolkits.mplot3d import Axes3D\n",
    "from matplotlib import pyplot as plt\n",
    "from matplotlib.colors import LinearSegmentedColormap\n",
    "from matplotlib.ticker import LinearLocator, FormatStrFormatter, FuncFormatter\n",
    "from matplotlib import cm "
   ]
  },
  {
   "cell_type": "code",
   "execution_count": null,
   "metadata": {},
   "outputs": [],
   "source": [
    "KERNELS_NAME = [\n",
    "    \"rgb2hsv\", #0\n",
    "    \"rgb2hsvWithMinimumDivergence\",\n",
    "    \"rgb2hsvWithCoordinatedOutputs\",\n",
    "    \"histogram\", #3\n",
    "    \"histogramWithSharedMemory\",\n",
    "    \"histogramWithSharedMemoryAndHarcodedSize\", #5\n",
    "    \"histogramWithMinimumDependencies\",\n",
    "    \"repart\", # 7\n",
    "    \"repartWithSharedMemory\",\n",
    "    \"repartWithSharedMemoryAndHarcodedSize\",\n",
    "    \"equalization\", #10\n",
    "    \"equalizationWithConstantCoefficient\",\n",
    "    \"hsv2rgb\", #12\n",
    "    \"hsv2rgbWithMinimumDivergence\" #13\n",
    "]\n",
    "\n",
    "KERNEL = {\n",
    "    \"rgb2hsv\": [0, 1, 2],\n",
    "    \"hsv2rgb\": [12, 13],\n",
    "    \"histogram\": [3, 4, 5, 6],\n",
    "    \"repart\": [7, 8, 9],\n",
    "    \"equalization\" :[10, 11] \n",
    "} \n",
    "NUM_KERNEL = { # Numéro du kernel qu'il faut séléctionner pour lire \n",
    "    \"rgb2hsv\": 1,\n",
    "    \"histogram\": 2, \n",
    "    \"repart\": 3,\n",
    "    \"equalization\" : 4,\n",
    "    \"hsv2rgb\": 5\n",
    "} "
   ]
  },
  {
   "cell_type": "code",
   "execution_count": null,
   "metadata": {},
   "outputs": [],
   "source": [
    "def read_nvprof(output: str) -> pd.DataFrame:\n",
    "    csv = output.split('\\\\n')\n",
    "    columns = csv[3].split('\\\",\\\"')\n",
    "    data = csv[4:]\n",
    "\n",
    "    return pd.read_csv(io.StringIO('\\n'.join(data)), names=columns)\n",
    "\n",
    "    \n",
    "def read_ncu(output: str) -> pd.DataFrame:\n",
    "    csv = output.split('\\\\n')\n",
    "    columns = csv[2].split('\\\",\\\"')\n",
    "    data = csv[4:]\n",
    "\n",
    "    return pd.read_csv(io.StringIO('\\n'.join(data)), names=columns)\n",
    "\n",
    "def benchmark_kernel(exe_path: str, *args) -> str :\n",
    "    if BENCHMARK_TOOL == 'NVPROF':\n",
    "        return str(subprocess.check_output(\n",
    "            ['nvprof', '--print-gpu-trace', '--csv', exe_path, *args], \n",
    "            stderr=subprocess.STDOUT\n",
    "        ))\n",
    "    elif BENCHMARK_TOOL == 'NCU':\n",
    "        return str(subprocess.check_output(\n",
    "            ['ncu','--csv', exe_path, *args], \n",
    "            stderr=subprocess.STDOUT, shell=True\n",
    "        ))\n",
    "\n",
    "def read_benchmark(output: str) -> pd.DataFrame:\n",
    "    if BENCHMARK_TOOL == 'NVPROF':\n",
    "        return read_nvprof(output)\n",
    "    elif BENCHMARK_TOOL == 'NCU':\n",
    "        return read_ncu(output)\n",
    "\n",
    "def get_kernel_duration(df: pd.DataFrame, kernelNum=0) -> float:\n",
    "    if BENCHMARK_TOOL == 'NVPROF':\n",
    "        # conversion en ms \n",
    "        if df.loc[0, 'Duration'] == \"ms\":\n",
    "            return float(df.loc[kernelNum, 'Duration']) \n",
    "        if df.loc[0, 'Duration'] == \"s\":\n",
    "            return float(df.loc[kernelNum, 'Duration']) * 1e3\n",
    "        # probablement en micro seconde\n",
    "        return float(df.loc[kernelNum, 'Duration']) * 1e-3\n",
    "    elif BENCHMARK_TOOL == 'NCU':\n",
    "        return float(df[df['Metric Name'] == 'Duration']['Metric Value'].to_numpy().item().replace(',','')) * 1e-6"
   ]
  },
  {
   "cell_type": "code",
   "execution_count": null,
   "metadata": {},
   "outputs": [],
   "source": [
    "# Renvoie les durée moyennes en fonction de variation de tailles de l'axe X des blocs pour un certain kernel\n",
    "def evaluateBlocSize(kernelNum, kernelInd, nTry = 10):  \n",
    "    durations = []\n",
    "    sizes = []\n",
    "    avg = 0\n",
    "    xBlockSize, yBlockSize = 1, 1\n",
    "    \n",
    "    while xBlockSize <= 1024:\n",
    "        for _ in range(nTry) :         \n",
    "            avg += get_kernel_duration(read_benchmark(\n",
    "                benchmark_kernel(\"./hist\", \n",
    "                    \"-f\", \"./img/chateau.png\", \n",
    "                    \"-b\", str(kernelInd), \n",
    "                    \"-d\", str(xBlockSize), str(yBlockSize)\n",
    "                )\n",
    "            ), kernelNum)\n",
    "\n",
    "        avg /= nTry\n",
    "        durations.append(avg)    \n",
    "        sizes.append(xBlockSize)\n",
    "        xBlockSize *= 2\n",
    "    return durations, sizes"
   ]
  },
  {
   "cell_type": "code",
   "execution_count": null,
   "metadata": {},
   "outputs": [],
   "source": [
    "def showHistogramDuration(durations, sizes, title, xLabel, yLabel):\n",
    "    plt.title(title)  \n",
    "    plt.xlabel(xLabel) \n",
    "    plt.ylabel(yLabel) \n",
    "    plt.bar(np.array(sizes).astype(str), np.array(durations), width=.8) \n",
    "    plt.show()\n",
    "\n",
    "def showHistogramOfKernels(kernels, nTry = 10):  \n",
    "    global NUM_KERNEL\n",
    "    i = 0\n",
    "    for k in kernels: \n",
    "        durations, sizes = evaluateBlocSize(NUM_KERNEL[i], i, nTry)\n",
    "        showHistogramDuration(durations, sizes, k, \"taille de bloc\", \"ms\") \n",
    "        i+=1\n",
    "#print(\"Évaluation des kernels suivant la variation de la taille des blocs sur l'axe X\") \n",
    "#showHistogramOfKernels(KERNELS, 5)"
   ]
  },
  {
   "cell_type": "code",
   "execution_count": null,
   "metadata": {},
   "outputs": [],
   "source": [
    "def evaluate2DBlocSize(kernelName, nTry = 10):  \n",
    "    global KERNELS_NAME\n",
    "    durations = []\n",
    "    sizes = [] \n",
    "    xBlockSize = 1\n",
    "    step = 64\n",
    "    kernelNum = KERNELS_NAME.index(kernelName)\n",
    "\n",
    "    while xBlockSize <= 1024:\n",
    "        yBlockSize = 1\n",
    "        durations.append([])\n",
    "        while yBlockSize <= 1024:\n",
    "            if (xBlockSize * yBlockSize) > 1024:\n",
    "                durations[-1].append(np.nan)     \n",
    "                yBlockSize *= 2\n",
    "                continue\n",
    "            \n",
    "            avg = 0 \n",
    "            for _ in range(nTry) :      \n",
    "                output = read_benchmark(\n",
    "                    benchmark_kernel(\"./hist\", \n",
    "                        \"-f\", \"./img/chateau.png\", \n",
    "                        \"-b\", str(kernelNum), \n",
    "                        \"-d\", str(1), str(1)\n",
    "                    )\n",
    "                )     \n",
    "                cond = output[\"Name\"].str.contains(kernelName, na=False, case=False) \n",
    "                i = output.index[cond][0] # Trouve le premier indice  \n",
    "                avg += get_kernel_duration(output, i) \n",
    "\n",
    "            avg /= nTry\n",
    "            durations[-1].append(avg)    \n",
    "            yBlockSize *= 2\n",
    "        sizes.append(xBlockSize)\n",
    "          \n",
    "        xBlockSize *= 2\n",
    "    return durations, sizes\n",
    " "
   ]
  },
  {
   "cell_type": "code",
   "execution_count": null,
   "metadata": {},
   "outputs": [],
   "source": [
    "#print(\"Variation de la taille des blocs rgb to hsv\")\n",
    "#durations, sizes = evaluate2DBlocSize(1, 1)   "
   ]
  },
  {
   "cell_type": "code",
   "execution_count": null,
   "metadata": {},
   "outputs": [],
   "source": [
    "def getBestParameters(durations, sizesX, sizesY):\n",
    "    m = durations[0][0]\n",
    "    x = 1\n",
    "    y = 1\n",
    "\n",
    "    for i in range(len(durations)):\n",
    "        for j in range(len(durations[i])):  \n",
    "            if (durations[i][j] < m and not np.isnan(durations[i][j])):\n",
    "                m = durations[i][j]\n",
    "                x = sizesX[i] \n",
    "                y = sizesY[j] \n",
    "\n",
    "    return m, x, y \n",
    "\n",
    "def log_tick_formatter(val, pos=None): \n",
    "    return int(10**val) \n",
    "\n",
    "def showHistogramDuration3DHist(durations, sizesX, sizesY, title, xLabel, yLabel): \n",
    "    fig = plt.figure()\n",
    "    ax = fig.add_subplot(111, projection='3d')\n",
    "    ax.set_title(\"Temps d'éxecution du kernel: \" + title)\n",
    " \n",
    "    xpos, ypos = np.meshgrid(sizesX, sizesY)\n",
    "    xpos = xpos.flatten('F')\n",
    "    ypos = ypos.flatten('F') \n",
    "    dz = np.array(durations).flatten()  \n",
    "    minZ, maxZ = min(dz), max(dz)\n",
    "    zpos = np.full_like(dz, minZ, dtype=np.double)  \n",
    "    cmap = cm.get_cmap('jet')   \n",
    "    rgb = [cmap((k-minZ)/ (maxZ-minZ)) for k in dz] \n",
    "    dz = np.array([d - minZ for d in dz])\n",
    "    dx = 0.5 * np.ones_like(zpos)\n",
    "    dy = dx.copy()   \n",
    "    hist = ax.bar3d(np.log10(xpos), np.log10(ypos), zpos, 0.13, 0.13, dz, color=rgb, alpha=0.3, zsort='average')\n",
    "\n",
    "    ##### Parametrage des axes #####\n",
    "    ax.zaxis.set_major_locator(LinearLocator(10))\n",
    "    ax.zaxis.set_major_formatter(FormatStrFormatter('%.02f'))\n",
    "    # Affichage de l'echelle logarithmic\n",
    "    ax.xaxis.set_major_formatter(FuncFormatter(log_tick_formatter))\n",
    "    ax.yaxis.set_major_formatter(FuncFormatter(log_tick_formatter)) \n",
    "  \n",
    "    #ax.set_zlim(minZ /2, maxZ * 2)\n",
    "    ax.set_zlim(minZ, maxZ)\n",
    "    ax.set_xlabel(xLabel)\n",
    "    ax.set_ylabel(yLabel) \n",
    "    ax.set_zlabel(\"durée (en ms)\")  \n",
    "    \n",
    "    # Affichage des meilleurs paramêtres \n",
    "    d, x, y  = getBestParameters(durations, sizesX, sizesY) \n",
    "    plt.figtext(0.53, -0.03, \"Meilleur temps: \" + str(minZ) + \" ms\\navec \" + xLabel + \" : \" + str(x) + \"\\n et \" + yLabel + \" : \" + str(y) , ha=\"center\", bbox={\"facecolor\":\"white\", \"alpha\":0.5, \"pad\":5})\n",
    "    plt.show()\n",
    "    #plt.savefig(title)\n",
    "\n",
    "# showHistogramDuration3DHist(durations, sizes, sizes, KERNELS_NAME[0], \"taille de bloc x\", \"taille de bloc y\")  \n",
    "#durations, sizes = evaluate2DBlocSize(NUM_KERNEL[\"rgb2hsv\"], 2, 1)   \n",
    "#print(durations, sizes)\n",
    "  "
   ]
  },
  {
   "cell_type": "code",
   "execution_count": null,
   "metadata": {},
   "outputs": [],
   "source": [
    "def testBlocKernels(kernelNameType, nTry = 1):\n",
    "    global KERNEL, KERNELS_NAME, NUM_KERNEL\n",
    "    \n",
    "    for i in KERNEL[kernelNameType]:\n",
    "        k = KERNELS_NAME[i]\n",
    "        print(\"Execution du kernel : \", k, \"avec \", nTry, \" essaie.\")\n",
    "        durations, sizes = evaluate2DBlocSize(k, nTry)    \n",
    "        showHistogramDuration3DHist(durations, sizes, sizes, k, \"taille de bloc x\", \"taille de bloc y\")  \n",
    "#showHistogramDuration3DHist(durations, sizes, sizes, KERNELS_NAME[0], \"taille de bloc x\", \"taille de bloc y\")\n",
    "#testBlocKernels([2], 1) # avec un seul essaie, on remarque que les temps sont imprécies et trop hétérogènes, il faut prendre le temps moyen entre plusieurs execution du même kernel"
   ]
  },
  {
   "attachments": {},
   "cell_type": "markdown",
   "metadata": {},
   "source": [
    "Test de l'affichage de chaque kernel"
   ]
  },
  {
   "cell_type": "code",
   "execution_count": null,
   "metadata": {},
   "outputs": [],
   "source": [
    "#testBlocKernels(\"rgb2hsv\", 1)\n",
    "k = \"rgb2hsvWithMinimumDivergence\"\n",
    "durations, sizes = evaluate2DBlocSize(k, 1)    \n",
    "\n",
    "showHistogramDuration3DHist(durations, sizes, sizes, k, \"taille de bloc x\", \"taille de bloc y\")  "
   ]
  },
  {
   "attachments": {},
   "cell_type": "markdown",
   "metadata": {},
   "source": [
    "# Evaluation des meilleurs dimensions 2D de bloc \n",
    "La taille de la grille sera égale à 1. "
   ]
  },
  {
   "cell_type": "code",
   "execution_count": null,
   "metadata": {},
   "outputs": [],
   "source": [
    "nTry = 10\n",
    "testBlocKernels(\"rgb2hsv\", nTry) "
   ]
  },
  {
   "cell_type": "code",
   "execution_count": null,
   "metadata": {},
   "outputs": [],
   "source": [
    "testBlocKernels(\"hsv2rgb\", nTry) "
   ]
  },
  {
   "cell_type": "code",
   "execution_count": null,
   "metadata": {},
   "outputs": [],
   "source": [
    "testBlocKernels(\"histogram\", nTry)"
   ]
  },
  {
   "cell_type": "code",
   "execution_count": null,
   "metadata": {},
   "outputs": [],
   "source": [
    "testBlocKernels(\"repart\", nTry)"
   ]
  },
  {
   "cell_type": "code",
   "execution_count": null,
   "metadata": {},
   "outputs": [],
   "source": [
    "testBlocKernels(\"equalization\", nTry)"
   ]
  },
  {
   "attachments": {},
   "cell_type": "markdown",
   "metadata": {},
   "source": [
    "# Variation des taille de bloc et de grille en 1D"
   ]
  },
  {
   "cell_type": "code",
   "execution_count": null,
   "metadata": {},
   "outputs": [],
   "source": [
    "def evaluate1DBlocAndGridSize(kernelName, nTry = 10): # On test les variations de taille de bloc et de grille sur une seul dimension \n",
    "    global KERNELS_NAME\n",
    "    durations = []\n",
    "    sizes = [] \n",
    "    blockSize = 1 \n",
    "    kernelNum = KERNELS_NAME.index(kernelName)\n",
    "\n",
    "    while blockSize <= 1024:\n",
    "        gridSize = 1\n",
    "        durations.append([])\n",
    "        while gridSize <= 1024:\n",
    "           # if (blockSize * gridSize) > 1024:\n",
    "          #      durations[-1].append(np.nan)     \n",
    "          #      gridSize *= 2\n",
    "          #      continue\n",
    "            \n",
    "            avg = 0 \n",
    "            for _ in range(nTry) :     \n",
    "                output = read_benchmark(\n",
    "                    benchmark_kernel(\"./hist\", \n",
    "                        \"-f\", \"./img/chateau.png\", \n",
    "                        \"-b\", str(kernelNum), \n",
    "                        \"-d\", str(blockSize), \"1\",\n",
    "                        \"-D\", str(gridSize), \"1\"\n",
    "                    )\n",
    "                )     \n",
    "                cond = output[\"Name\"].str.contains(kernelName, na=False, case=False) \n",
    "                i = output.index[cond][0] # Trouve le premier indice  \n",
    "                avg += get_kernel_duration(output, i) \n",
    "\n",
    "            avg /= nTry\n",
    "            durations[-1].append(avg)    \n",
    "            gridSize *= 2\n",
    "        sizes.append(blockSize)\n",
    "          \n",
    "        blockSize *= 2\n",
    "    return durations, sizes\n",
    "    \n",
    "def testBlocAndGridKernels(kernel, i, nTry = 1):\n",
    "    global KERNEL_NAME, KERNEL, NUM_KERNEL \n",
    "    print(\"Execution du kernel : \", KERNELS_NAME[i], \"avec \", nTry, \" essaie.\")\n",
    "    durations, sizes = evaluate1DBlocAndGridSize(NUM_KERNEL[kernel], i, nTry)   \n",
    "    showHistogramDuration3DHist(durations, sizes, sizes, KERNELS_NAME[i], \"taille de bloc\", \"taille de grille\")  "
   ]
  },
  {
   "cell_type": "code",
   "execution_count": null,
   "metadata": {},
   "outputs": [],
   "source": [
    "nTry = 10\n",
    "testBlocAndGridKernels(\"rgb2hsv\", KERNEL[\"rgb2hsv\"][2], nTry) "
   ]
  },
  {
   "cell_type": "code",
   "execution_count": null,
   "metadata": {},
   "outputs": [],
   "source": [
    "testBlocAndGridKernels(\"histogram\", KERNEL[\"histogram\"][0], nTry)"
   ]
  },
  {
   "cell_type": "code",
   "execution_count": null,
   "metadata": {},
   "outputs": [],
   "source": [
    "testBlocAndGridKernels(\"repart\", KERNEL[\"repart\"][0], nTry)"
   ]
  },
  {
   "cell_type": "code",
   "execution_count": null,
   "metadata": {},
   "outputs": [],
   "source": [
    "testBlocAndGridKernels(\"equalization\", KERNEL[\"equalization\"][1], nTry) #"
   ]
  },
  {
   "cell_type": "code",
   "execution_count": null,
   "metadata": {},
   "outputs": [],
   "source": [
    "testBlocAndGridKernels(\"hsv2rgb\", KERNEL[\"hsv2rgb\"][1], nTry)"
   ]
  }
 ],
 "metadata": {
  "kernelspec": {
   "display_name": "Python 3",
   "language": "python",
   "name": "python3"
  },
  "language_info": {
   "codemirror_mode": {
    "name": "ipython",
    "version": 3
   },
   "file_extension": ".py",
   "mimetype": "text/x-python",
   "name": "python",
   "nbconvert_exporter": "python",
   "pygments_lexer": "ipython3",
   "version": "3.8.10"
  },
  "orig_nbformat": 4,
  "vscode": {
   "interpreter": {
    "hash": "916dbcbb3f70747c44a77c7bcd40155683ae19c65e1c03b4aa3499c5328201f1"
   }
  }
 },
 "nbformat": 4,
 "nbformat_minor": 2
}
